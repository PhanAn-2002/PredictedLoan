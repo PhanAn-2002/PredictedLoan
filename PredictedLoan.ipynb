{
 "cells": [
  {
   "cell_type": "code",
   "execution_count": 1,
   "id": "91651f77",
   "metadata": {},
   "outputs": [],
   "source": [
    "import numpy as np\n",
    "import pandas as pd\n",
    "import matplotlib.pyplot as plt\n",
    "import matplotlib.cm as cm\n",
    "from matplotlib.colors import Normalize\n",
    "import seaborn as sns\n",
    "import warnings\n",
    "warnings.filterwarnings('ignore')"
   ]
  },
  {
   "cell_type": "markdown",
   "id": "06d550cd",
   "metadata": {},
   "source": [
    "## Xử lý dữ liệu"
   ]
  },
  {
   "cell_type": "code",
   "execution_count": 2,
   "id": "8231629c",
   "metadata": {},
   "outputs": [],
   "source": [
    "df = pd.read_csv(r'C:\\Users\\Admin\\khoa4\\test1\\Test1\\loans_full_schema.csv')\n"
   ]
  },
  {
   "cell_type": "code",
   "execution_count": 3,
   "id": "43a35132",
   "metadata": {},
   "outputs": [
    {
     "data": {
      "text/plain": [
       "(10000, 55)"
      ]
     },
     "execution_count": 3,
     "metadata": {},
     "output_type": "execute_result"
    }
   ],
   "source": [
    "df.shape"
   ]
  },
  {
   "cell_type": "code",
   "execution_count": 4,
   "id": "b80e69fa",
   "metadata": {},
   "outputs": [
    {
     "name": "stdout",
     "output_type": "stream",
     "text": [
      "<class 'pandas.core.frame.DataFrame'>\n",
      "RangeIndex: 10000 entries, 0 to 9999\n",
      "Data columns (total 55 columns):\n",
      " #   Column                            Non-Null Count  Dtype  \n",
      "---  ------                            --------------  -----  \n",
      " 0   emp_title                         9167 non-null   object \n",
      " 1   emp_length                        9183 non-null   float64\n",
      " 2   state                             10000 non-null  object \n",
      " 3   homeownership                     10000 non-null  object \n",
      " 4   annual_income                     10000 non-null  float64\n",
      " 5   verified_income                   10000 non-null  object \n",
      " 6   debt_to_income                    9976 non-null   float64\n",
      " 7   annual_income_joint               1495 non-null   float64\n",
      " 8   verification_income_joint         1455 non-null   object \n",
      " 9   debt_to_income_joint              1495 non-null   float64\n",
      " 10  delinq_2y                         10000 non-null  int64  \n",
      " 11  months_since_last_delinq          4342 non-null   float64\n",
      " 12  earliest_credit_line              10000 non-null  int64  \n",
      " 13  inquiries_last_12m                10000 non-null  int64  \n",
      " 14  total_credit_lines                10000 non-null  int64  \n",
      " 15  open_credit_lines                 10000 non-null  int64  \n",
      " 16  total_credit_limit                10000 non-null  int64  \n",
      " 17  total_credit_utilized             10000 non-null  int64  \n",
      " 18  num_collections_last_12m          10000 non-null  int64  \n",
      " 19  num_historical_failed_to_pay      10000 non-null  int64  \n",
      " 20  months_since_90d_late             2285 non-null   float64\n",
      " 21  current_accounts_delinq           10000 non-null  int64  \n",
      " 22  total_collection_amount_ever      10000 non-null  int64  \n",
      " 23  current_installment_accounts      10000 non-null  int64  \n",
      " 24  accounts_opened_24m               10000 non-null  int64  \n",
      " 25  months_since_last_credit_inquiry  8729 non-null   float64\n",
      " 26  num_satisfactory_accounts         10000 non-null  int64  \n",
      " 27  num_accounts_120d_past_due        9682 non-null   float64\n",
      " 28  num_accounts_30d_past_due         10000 non-null  int64  \n",
      " 29  num_active_debit_accounts         10000 non-null  int64  \n",
      " 30  total_debit_limit                 10000 non-null  int64  \n",
      " 31  num_total_cc_accounts             10000 non-null  int64  \n",
      " 32  num_open_cc_accounts              10000 non-null  int64  \n",
      " 33  num_cc_carrying_balance           10000 non-null  int64  \n",
      " 34  num_mort_accounts                 10000 non-null  int64  \n",
      " 35  account_never_delinq_percent      10000 non-null  float64\n",
      " 36  tax_liens                         10000 non-null  int64  \n",
      " 37  public_record_bankrupt            10000 non-null  int64  \n",
      " 38  loan_purpose                      10000 non-null  object \n",
      " 39  application_type                  10000 non-null  object \n",
      " 40  loan_amount                       10000 non-null  int64  \n",
      " 41  term                              10000 non-null  int64  \n",
      " 42  interest_rate                     10000 non-null  float64\n",
      " 43  installment                       10000 non-null  float64\n",
      " 44  grade                             10000 non-null  object \n",
      " 45  sub_grade                         10000 non-null  object \n",
      " 46  issue_month                       10000 non-null  object \n",
      " 47  loan_status                       10000 non-null  object \n",
      " 48  initial_listing_status            10000 non-null  object \n",
      " 49  disbursement_method               10000 non-null  object \n",
      " 50  balance                           10000 non-null  float64\n",
      " 51  paid_total                        10000 non-null  float64\n",
      " 52  paid_principal                    10000 non-null  float64\n",
      " 53  paid_interest                     10000 non-null  float64\n",
      " 54  paid_late_fees                    10000 non-null  float64\n",
      "dtypes: float64(17), int64(25), object(13)\n",
      "memory usage: 4.2+ MB\n"
     ]
    }
   ],
   "source": [
    "df.info()"
   ]
  },
  {
   "cell_type": "code",
   "execution_count": 5,
   "id": "e26ebf07",
   "metadata": {},
   "outputs": [
    {
     "data": {
      "text/plain": [
       "emp_title                            833\n",
       "emp_length                           817\n",
       "state                                  0\n",
       "homeownership                          0\n",
       "annual_income                          0\n",
       "verified_income                        0\n",
       "debt_to_income                        24\n",
       "annual_income_joint                 8505\n",
       "verification_income_joint           8545\n",
       "debt_to_income_joint                8505\n",
       "delinq_2y                              0\n",
       "months_since_last_delinq            5658\n",
       "earliest_credit_line                   0\n",
       "inquiries_last_12m                     0\n",
       "total_credit_lines                     0\n",
       "open_credit_lines                      0\n",
       "total_credit_limit                     0\n",
       "total_credit_utilized                  0\n",
       "num_collections_last_12m               0\n",
       "num_historical_failed_to_pay           0\n",
       "months_since_90d_late               7715\n",
       "current_accounts_delinq                0\n",
       "total_collection_amount_ever           0\n",
       "current_installment_accounts           0\n",
       "accounts_opened_24m                    0\n",
       "months_since_last_credit_inquiry    1271\n",
       "num_satisfactory_accounts              0\n",
       "num_accounts_120d_past_due           318\n",
       "num_accounts_30d_past_due              0\n",
       "num_active_debit_accounts              0\n",
       "total_debit_limit                      0\n",
       "num_total_cc_accounts                  0\n",
       "num_open_cc_accounts                   0\n",
       "num_cc_carrying_balance                0\n",
       "num_mort_accounts                      0\n",
       "account_never_delinq_percent           0\n",
       "tax_liens                              0\n",
       "public_record_bankrupt                 0\n",
       "loan_purpose                           0\n",
       "application_type                       0\n",
       "loan_amount                            0\n",
       "term                                   0\n",
       "interest_rate                          0\n",
       "installment                            0\n",
       "grade                                  0\n",
       "sub_grade                              0\n",
       "issue_month                            0\n",
       "loan_status                            0\n",
       "initial_listing_status                 0\n",
       "disbursement_method                    0\n",
       "balance                                0\n",
       "paid_total                             0\n",
       "paid_principal                         0\n",
       "paid_interest                          0\n",
       "paid_late_fees                         0\n",
       "dtype: int64"
      ]
     },
     "execution_count": 5,
     "metadata": {},
     "output_type": "execute_result"
    }
   ],
   "source": [
    "df.isnull().sum()"
   ]
  },
  {
   "cell_type": "markdown",
   "id": "cb4cf3f9",
   "metadata": {},
   "source": [
    "### Exploratory Data Analysis (EDA)"
   ]
  },
  {
   "cell_type": "code",
   "execution_count": 6,
   "id": "8790b602",
   "metadata": {},
   "outputs": [],
   "source": [
    "summary_by_loan_purpose = df.groupby([\"loan_purpose\"], as_index=False)\\\n",
    "    [\"loan_amount\"]\\\n",
    "    .agg([np.size, np.sum]).reset_index().rename(columns={'size':'number_of_borrowers','sum':'total_loan_amount'})"
   ]
  },
  {
   "cell_type": "code",
   "execution_count": 7,
   "id": "a087e67d",
   "metadata": {},
   "outputs": [
    {
     "data": {
      "text/html": [
       "<div>\n",
       "<style scoped>\n",
       "    .dataframe tbody tr th:only-of-type {\n",
       "        vertical-align: middle;\n",
       "    }\n",
       "\n",
       "    .dataframe tbody tr th {\n",
       "        vertical-align: top;\n",
       "    }\n",
       "\n",
       "    .dataframe thead th {\n",
       "        text-align: right;\n",
       "    }\n",
       "</style>\n",
       "<table border=\"1\" class=\"dataframe\">\n",
       "  <thead>\n",
       "    <tr style=\"text-align: right;\">\n",
       "      <th></th>\n",
       "      <th>loan_purpose</th>\n",
       "      <th>number_of_borrowers</th>\n",
       "      <th>total_loan_amount</th>\n",
       "    </tr>\n",
       "  </thead>\n",
       "  <tbody>\n",
       "    <tr>\n",
       "      <th>0</th>\n",
       "      <td>renewable_energy</td>\n",
       "      <td>10</td>\n",
       "      <td>140000</td>\n",
       "    </tr>\n",
       "    <tr>\n",
       "      <th>1</th>\n",
       "      <td>vacation</td>\n",
       "      <td>62</td>\n",
       "      <td>421900</td>\n",
       "    </tr>\n",
       "    <tr>\n",
       "      <th>2</th>\n",
       "      <td>moving</td>\n",
       "      <td>69</td>\n",
       "      <td>682675</td>\n",
       "    </tr>\n",
       "    <tr>\n",
       "      <th>3</th>\n",
       "      <td>small_business</td>\n",
       "      <td>125</td>\n",
       "      <td>2477500</td>\n",
       "    </tr>\n",
       "    <tr>\n",
       "      <th>4</th>\n",
       "      <td>car</td>\n",
       "      <td>131</td>\n",
       "      <td>1361250</td>\n",
       "    </tr>\n",
       "    <tr>\n",
       "      <th>5</th>\n",
       "      <td>house</td>\n",
       "      <td>151</td>\n",
       "      <td>2689275</td>\n",
       "    </tr>\n",
       "    <tr>\n",
       "      <th>6</th>\n",
       "      <td>medical</td>\n",
       "      <td>162</td>\n",
       "      <td>1836800</td>\n",
       "    </tr>\n",
       "    <tr>\n",
       "      <th>7</th>\n",
       "      <td>major_purchase</td>\n",
       "      <td>303</td>\n",
       "      <td>4752425</td>\n",
       "    </tr>\n",
       "    <tr>\n",
       "      <th>8</th>\n",
       "      <td>home_improvement</td>\n",
       "      <td>680</td>\n",
       "      <td>11719225</td>\n",
       "    </tr>\n",
       "    <tr>\n",
       "      <th>9</th>\n",
       "      <td>other</td>\n",
       "      <td>914</td>\n",
       "      <td>11819025</td>\n",
       "    </tr>\n",
       "    <tr>\n",
       "      <th>10</th>\n",
       "      <td>credit_card</td>\n",
       "      <td>2249</td>\n",
       "      <td>34951225</td>\n",
       "    </tr>\n",
       "    <tr>\n",
       "      <th>11</th>\n",
       "      <td>debt_consolidation</td>\n",
       "      <td>5144</td>\n",
       "      <td>90767925</td>\n",
       "    </tr>\n",
       "  </tbody>\n",
       "</table>\n",
       "</div>"
      ],
      "text/plain": [
       "          loan_purpose  number_of_borrowers  total_loan_amount\n",
       "0     renewable_energy                   10             140000\n",
       "1             vacation                   62             421900\n",
       "2               moving                   69             682675\n",
       "3       small_business                  125            2477500\n",
       "4                  car                  131            1361250\n",
       "5                house                  151            2689275\n",
       "6              medical                  162            1836800\n",
       "7       major_purchase                  303            4752425\n",
       "8     home_improvement                  680           11719225\n",
       "9                other                  914           11819025\n",
       "10         credit_card                 2249           34951225\n",
       "11  debt_consolidation                 5144           90767925"
      ]
     },
     "execution_count": 7,
     "metadata": {},
     "output_type": "execute_result"
    }
   ],
   "source": [
    "summary_by_loan_purpose.sort_values('number_of_borrowers', ascending=True, inplace=True, ignore_index=True)\n",
    "\n",
    "summary_by_loan_purpose"
   ]
  },
  {
   "cell_type": "code",
   "execution_count": 8,
   "id": "1a38507c",
   "metadata": {},
   "outputs": [
    {
     "data": {
      "image/png": "[encoded data removed]",
      "text/plain": [
       "<Figure size 864x432 with 1 Axes>"
      ]
     },
     "metadata": {
      "needs_background": "light"
     },
     "output_type": "display_data"
    }
   ],
   "source": [
    "fig, ax = plt.subplots(figsize=(12, 6))\n",
    "\n",
    "bar1 = ax.barh('loan_purpose', 'number_of_borrowers', data=summary_by_loan_purpose, color='#FA6900')\n",
    "\n",
    "i = 0\n",
    "for p in bar1.patches:\n",
    "    t1 = ax.annotate(summary_by_loan_purpose.number_of_borrowers[i], xy=(p.get_width()+20, p.get_y()+p.get_height()/2)) # số 200 ở đây tùy scale của chart mà ta tinh chỉnh để số liệu tách ra xa khỏi bar cho đẹp\n",
    "    t1.set(size=8)\n",
    "    i+=1\n",
    "    \n",
    "plt.suptitle('The number of borrowers by Loan purpose', fontweight='bold', size=14, horizontalalignment='left', x=0.125, y = 1)\n",
    "plt.xlabel('Number of borrowers', size=12)\n",
    "plt.ylabel('Loan purpose', size=12)\n",
    "plt.text(0.7, 0.01, \"XXX - Analytics Team\", style='italic',transform=plt.gcf().transFigure)\n",
    "\n",
    "plt.show()"
   ]
  },
  {
   "cell_type": "markdown",
   "id": "6048b5fe",
   "metadata": {},
   "source": [
    "Khoản vay chủ yếu nhất là hợp nhất nợ (debt_consolidation) ~> Xu hướng là khi đi vay thì vay cho nhiều mục đích khác nhau"
   ]
  },
  {
   "cell_type": "code",
   "execution_count": 9,
   "id": "0ed188ce",
   "metadata": {},
   "outputs": [
    {
     "data": {
      "text/html": [
       "<div>\n",
       "<style scoped>\n",
       "    .dataframe tbody tr th:only-of-type {\n",
       "        vertical-align: middle;\n",
       "    }\n",
       "\n",
       "    .dataframe tbody tr th {\n",
       "        vertical-align: top;\n",
       "    }\n",
       "\n",
       "    .dataframe thead th {\n",
       "        text-align: right;\n",
       "    }\n",
       "</style>\n",
       "<table border=\"1\" class=\"dataframe\">\n",
       "  <thead>\n",
       "    <tr style=\"text-align: right;\">\n",
       "      <th></th>\n",
       "      <th>interest_rate</th>\n",
       "    </tr>\n",
       "    <tr>\n",
       "      <th>grade</th>\n",
       "      <th></th>\n",
       "    </tr>\n",
       "  </thead>\n",
       "  <tbody>\n",
       "    <tr>\n",
       "      <th>A</th>\n",
       "      <td>6.742631</td>\n",
       "    </tr>\n",
       "    <tr>\n",
       "      <th>B</th>\n",
       "      <td>10.524103</td>\n",
       "    </tr>\n",
       "    <tr>\n",
       "      <th>C</th>\n",
       "      <td>14.176698</td>\n",
       "    </tr>\n",
       "    <tr>\n",
       "      <th>D</th>\n",
       "      <td>19.113451</td>\n",
       "    </tr>\n",
       "    <tr>\n",
       "      <th>E</th>\n",
       "      <td>25.103403</td>\n",
       "    </tr>\n",
       "    <tr>\n",
       "      <th>F</th>\n",
       "      <td>29.401897</td>\n",
       "    </tr>\n",
       "    <tr>\n",
       "      <th>G</th>\n",
       "      <td>30.802500</td>\n",
       "    </tr>\n",
       "  </tbody>\n",
       "</table>\n",
       "</div>"
      ],
      "text/plain": [
       "       interest_rate\n",
       "grade               \n",
       "A           6.742631\n",
       "B          10.524103\n",
       "C          14.176698\n",
       "D          19.113451\n",
       "E          25.103403\n",
       "F          29.401897\n",
       "G          30.802500"
      ]
     },
     "execution_count": 9,
     "metadata": {},
     "output_type": "execute_result"
    }
   ],
   "source": [
    "df.groupby(['grade'])[[\"interest_rate\"]].mean()"
   ]
  },
  {
   "cell_type": "code",
   "execution_count": 10,
   "id": "18757f89",
   "metadata": {},
   "outputs": [],
   "source": [
    "summary_by_grade = df.groupby([\"grade\"], as_index=False)\\\n",
    "    [\"loan_amount\"]\\\n",
    "    .agg([np.size, np.sum]).reset_index().rename(columns={'size':'number_of_borrowers','sum':'total_loan_amount'})"
   ]
  },
  {
   "cell_type": "code",
   "execution_count": 11,
   "id": "4f3e4223",
   "metadata": {},
   "outputs": [
    {
     "data": {
      "text/html": [
       "<div>\n",
       "<style scoped>\n",
       "    .dataframe tbody tr th:only-of-type {\n",
       "        vertical-align: middle;\n",
       "    }\n",
       "\n",
       "    .dataframe tbody tr th {\n",
       "        vertical-align: top;\n",
       "    }\n",
       "\n",
       "    .dataframe thead th {\n",
       "        text-align: right;\n",
       "    }\n",
       "</style>\n",
       "<table border=\"1\" class=\"dataframe\">\n",
       "  <thead>\n",
       "    <tr style=\"text-align: right;\">\n",
       "      <th></th>\n",
       "      <th>grade</th>\n",
       "      <th>number_of_borrowers</th>\n",
       "      <th>total_loan_amount</th>\n",
       "    </tr>\n",
       "  </thead>\n",
       "  <tbody>\n",
       "    <tr>\n",
       "      <th>0</th>\n",
       "      <td>G</td>\n",
       "      <td>12</td>\n",
       "      <td>305150</td>\n",
       "    </tr>\n",
       "    <tr>\n",
       "      <th>1</th>\n",
       "      <td>F</td>\n",
       "      <td>58</td>\n",
       "      <td>1271525</td>\n",
       "    </tr>\n",
       "    <tr>\n",
       "      <th>2</th>\n",
       "      <td>E</td>\n",
       "      <td>335</td>\n",
       "      <td>6117450</td>\n",
       "    </tr>\n",
       "    <tr>\n",
       "      <th>3</th>\n",
       "      <td>D</td>\n",
       "      <td>1446</td>\n",
       "      <td>24024175</td>\n",
       "    </tr>\n",
       "    <tr>\n",
       "      <th>4</th>\n",
       "      <td>A</td>\n",
       "      <td>2459</td>\n",
       "      <td>37867450</td>\n",
       "    </tr>\n",
       "    <tr>\n",
       "      <th>5</th>\n",
       "      <td>C</td>\n",
       "      <td>2653</td>\n",
       "      <td>44678275</td>\n",
       "    </tr>\n",
       "    <tr>\n",
       "      <th>6</th>\n",
       "      <td>B</td>\n",
       "      <td>3037</td>\n",
       "      <td>49355200</td>\n",
       "    </tr>\n",
       "  </tbody>\n",
       "</table>\n",
       "</div>"
      ],
      "text/plain": [
       "  grade  number_of_borrowers  total_loan_amount\n",
       "0     G                   12             305150\n",
       "1     F                   58            1271525\n",
       "2     E                  335            6117450\n",
       "3     D                 1446           24024175\n",
       "4     A                 2459           37867450\n",
       "5     C                 2653           44678275\n",
       "6     B                 3037           49355200"
      ]
     },
     "execution_count": 11,
     "metadata": {},
     "output_type": "execute_result"
    }
   ],
   "source": [
    "summary_by_grade.sort_values('number_of_borrowers', ascending=True, inplace=True, ignore_index=True)\n",
    "\n",
    "summary_by_grade"
   ]
  },
  {
   "cell_type": "code",
   "execution_count": 12,
   "id": "7aacc4e8",
   "metadata": {},
   "outputs": [
    {
     "data": {
      "image/png": "[encoded data removed]",
      "text/plain": [
       "<Figure size 864x432 with 1 Axes>"
      ]
     },
     "metadata": {
      "needs_background": "light"
     },
     "output_type": "display_data"
    }
   ],
   "source": [
    "fig, ax = plt.subplots(figsize=(12, 6))\n",
    "\n",
    "bar1 = ax.barh('grade', 'number_of_borrowers', data=summary_by_grade, color='#FA6900')\n",
    "\n",
    "i = 0\n",
    "for p in bar1.patches:\n",
    "    t1 = ax.annotate(summary_by_grade.number_of_borrowers[i], xy=(p.get_width()+20, p.get_y()+p.get_height()/2)) # số 200 ở đây tùy scale của chart mà ta tinh chỉnh để số liệu tách ra xa khỏi bar cho đẹp\n",
    "    t1.set(size=8)\n",
    "    i+=1\n",
    "    \n",
    "plt.suptitle('The number of borrowers by grade', fontweight='bold', size=14, horizontalalignment='left', x=0.125, y = 1)\n",
    "plt.xlabel('Number of borrowers', size=12)\n",
    "plt.ylabel('grade', size=12)\n",
    "plt.text(0.7, 0.01, \"XXX - Analytics Team\", style='italic',transform=plt.gcf().transFigure)\n",
    "\n",
    "plt.show()"
   ]
  },
  {
   "cell_type": "code",
   "execution_count": 13,
   "id": "2e5e0ad6",
   "metadata": {},
   "outputs": [
    {
     "data": {
      "text/html": [
       "<div>\n",
       "<style scoped>\n",
       "    .dataframe tbody tr th:only-of-type {\n",
       "        vertical-align: middle;\n",
       "    }\n",
       "\n",
       "    .dataframe tbody tr th {\n",
       "        vertical-align: top;\n",
       "    }\n",
       "\n",
       "    .dataframe thead th {\n",
       "        text-align: right;\n",
       "    }\n",
       "</style>\n",
       "<table border=\"1\" class=\"dataframe\">\n",
       "  <thead>\n",
       "    <tr style=\"text-align: right;\">\n",
       "      <th></th>\n",
       "      <th>interest_rate</th>\n",
       "    </tr>\n",
       "    <tr>\n",
       "      <th>sub_grade</th>\n",
       "      <th></th>\n",
       "    </tr>\n",
       "  </thead>\n",
       "  <tbody>\n",
       "    <tr>\n",
       "      <th>A1</th>\n",
       "      <td>5.315545</td>\n",
       "    </tr>\n",
       "    <tr>\n",
       "      <th>A2</th>\n",
       "      <td>6.075625</td>\n",
       "    </tr>\n",
       "    <tr>\n",
       "      <th>A3</th>\n",
       "      <td>6.716190</td>\n",
       "    </tr>\n",
       "    <tr>\n",
       "      <th>A4</th>\n",
       "      <td>7.345722</td>\n",
       "    </tr>\n",
       "    <tr>\n",
       "      <th>A5</th>\n",
       "      <td>7.965649</td>\n",
       "    </tr>\n",
       "    <tr>\n",
       "      <th>B1</th>\n",
       "      <td>9.435672</td>\n",
       "    </tr>\n",
       "    <tr>\n",
       "      <th>B2</th>\n",
       "      <td>9.926113</td>\n",
       "    </tr>\n",
       "    <tr>\n",
       "      <th>B3</th>\n",
       "      <td>10.416407</td>\n",
       "    </tr>\n",
       "    <tr>\n",
       "      <th>B4</th>\n",
       "      <td>10.905267</td>\n",
       "    </tr>\n",
       "    <tr>\n",
       "      <th>B5</th>\n",
       "      <td>11.985959</td>\n",
       "    </tr>\n",
       "    <tr>\n",
       "      <th>C1</th>\n",
       "      <td>12.615578</td>\n",
       "    </tr>\n",
       "    <tr>\n",
       "      <th>C2</th>\n",
       "      <td>13.586066</td>\n",
       "    </tr>\n",
       "    <tr>\n",
       "      <th>C3</th>\n",
       "      <td>14.076347</td>\n",
       "    </tr>\n",
       "    <tr>\n",
       "      <th>C4</th>\n",
       "      <td>15.046044</td>\n",
       "    </tr>\n",
       "    <tr>\n",
       "      <th>C5</th>\n",
       "      <td>16.015917</td>\n",
       "    </tr>\n",
       "    <tr>\n",
       "      <th>D1</th>\n",
       "      <td>17.237712</td>\n",
       "    </tr>\n",
       "    <tr>\n",
       "      <th>D2</th>\n",
       "      <td>18.198947</td>\n",
       "    </tr>\n",
       "    <tr>\n",
       "      <th>D3</th>\n",
       "      <td>19.172958</td>\n",
       "    </tr>\n",
       "    <tr>\n",
       "      <th>D4</th>\n",
       "      <td>20.096407</td>\n",
       "    </tr>\n",
       "    <tr>\n",
       "      <th>D5</th>\n",
       "      <td>21.587405</td>\n",
       "    </tr>\n",
       "    <tr>\n",
       "      <th>E1</th>\n",
       "      <td>22.906829</td>\n",
       "    </tr>\n",
       "    <tr>\n",
       "      <th>E2</th>\n",
       "      <td>23.876491</td>\n",
       "    </tr>\n",
       "    <tr>\n",
       "      <th>E3</th>\n",
       "      <td>24.845753</td>\n",
       "    </tr>\n",
       "    <tr>\n",
       "      <th>E4</th>\n",
       "      <td>25.816438</td>\n",
       "    </tr>\n",
       "    <tr>\n",
       "      <th>E5</th>\n",
       "      <td>26.496264</td>\n",
       "    </tr>\n",
       "    <tr>\n",
       "      <th>F1</th>\n",
       "      <td>28.720000</td>\n",
       "    </tr>\n",
       "    <tr>\n",
       "      <th>F2</th>\n",
       "      <td>29.690000</td>\n",
       "    </tr>\n",
       "    <tr>\n",
       "      <th>F3</th>\n",
       "      <td>30.170000</td>\n",
       "    </tr>\n",
       "    <tr>\n",
       "      <th>F4</th>\n",
       "      <td>30.650000</td>\n",
       "    </tr>\n",
       "    <tr>\n",
       "      <th>F5</th>\n",
       "      <td>30.750000</td>\n",
       "    </tr>\n",
       "    <tr>\n",
       "      <th>G1</th>\n",
       "      <td>30.790000</td>\n",
       "    </tr>\n",
       "    <tr>\n",
       "      <th>G4</th>\n",
       "      <td>30.940000</td>\n",
       "    </tr>\n",
       "  </tbody>\n",
       "</table>\n",
       "</div>"
      ],
      "text/plain": [
       "           interest_rate\n",
       "sub_grade               \n",
       "A1              5.315545\n",
       "A2              6.075625\n",
       "A3              6.716190\n",
       "A4              7.345722\n",
       "A5              7.965649\n",
       "B1              9.435672\n",
       "B2              9.926113\n",
       "B3             10.416407\n",
       "B4             10.905267\n",
       "B5             11.985959\n",
       "C1             12.615578\n",
       "C2             13.586066\n",
       "C3             14.076347\n",
       "C4             15.046044\n",
       "C5             16.015917\n",
       "D1             17.237712\n",
       "D2             18.198947\n",
       "D3             19.172958\n",
       "D4             20.096407\n",
       "D5             21.587405\n",
       "E1             22.906829\n",
       "E2             23.876491\n",
       "E3             24.845753\n",
       "E4             25.816438\n",
       "E5             26.496264\n",
       "F1             28.720000\n",
       "F2             29.690000\n",
       "F3             30.170000\n",
       "F4             30.650000\n",
       "F5             30.750000\n",
       "G1             30.790000\n",
       "G4             30.940000"
      ]
     },
     "execution_count": 13,
     "metadata": {},
     "output_type": "execute_result"
    }
   ],
   "source": [
    "df.groupby(['sub_grade'])[[\"interest_rate\"]].mean()"
   ]
  },
  {
   "cell_type": "code",
   "execution_count": 14,
   "id": "e7baa48a",
   "metadata": {},
   "outputs": [],
   "source": [
    "summary_by_sub_grade = df.groupby([\"sub_grade\"], as_index=False)\\\n",
    "    [\"loan_amount\"]\\\n",
    "    .agg([np.size, np.sum]).reset_index().rename(columns={'size':'number_of_borrowers','sum':'total_loan_amount'})"
   ]
  },
  {
   "cell_type": "code",
   "execution_count": 15,
   "id": "e90a59bf",
   "metadata": {},
   "outputs": [
    {
     "data": {
      "text/html": [
       "<div>\n",
       "<style scoped>\n",
       "    .dataframe tbody tr th:only-of-type {\n",
       "        vertical-align: middle;\n",
       "    }\n",
       "\n",
       "    .dataframe tbody tr th {\n",
       "        vertical-align: top;\n",
       "    }\n",
       "\n",
       "    .dataframe thead th {\n",
       "        text-align: right;\n",
       "    }\n",
       "</style>\n",
       "<table border=\"1\" class=\"dataframe\">\n",
       "  <thead>\n",
       "    <tr style=\"text-align: right;\">\n",
       "      <th></th>\n",
       "      <th>sub_grade</th>\n",
       "      <th>number_of_borrowers</th>\n",
       "      <th>total_loan_amount</th>\n",
       "    </tr>\n",
       "  </thead>\n",
       "  <tbody>\n",
       "    <tr>\n",
       "      <th>0</th>\n",
       "      <td>G4</td>\n",
       "      <td>1</td>\n",
       "      <td>35000</td>\n",
       "    </tr>\n",
       "    <tr>\n",
       "      <th>1</th>\n",
       "      <td>F5</td>\n",
       "      <td>4</td>\n",
       "      <td>92175</td>\n",
       "    </tr>\n",
       "    <tr>\n",
       "      <th>2</th>\n",
       "      <td>F4</td>\n",
       "      <td>5</td>\n",
       "      <td>72750</td>\n",
       "    </tr>\n",
       "    <tr>\n",
       "      <th>3</th>\n",
       "      <td>F3</td>\n",
       "      <td>9</td>\n",
       "      <td>190050</td>\n",
       "    </tr>\n",
       "    <tr>\n",
       "      <th>4</th>\n",
       "      <td>F2</td>\n",
       "      <td>9</td>\n",
       "      <td>202200</td>\n",
       "    </tr>\n",
       "    <tr>\n",
       "      <th>5</th>\n",
       "      <td>G1</td>\n",
       "      <td>11</td>\n",
       "      <td>270150</td>\n",
       "    </tr>\n",
       "    <tr>\n",
       "      <th>6</th>\n",
       "      <td>F1</td>\n",
       "      <td>31</td>\n",
       "      <td>714350</td>\n",
       "    </tr>\n",
       "    <tr>\n",
       "      <th>7</th>\n",
       "      <td>E1</td>\n",
       "      <td>41</td>\n",
       "      <td>522800</td>\n",
       "    </tr>\n",
       "    <tr>\n",
       "      <th>8</th>\n",
       "      <td>E2</td>\n",
       "      <td>57</td>\n",
       "      <td>979400</td>\n",
       "    </tr>\n",
       "    <tr>\n",
       "      <th>9</th>\n",
       "      <td>E4</td>\n",
       "      <td>73</td>\n",
       "      <td>1428525</td>\n",
       "    </tr>\n",
       "    <tr>\n",
       "      <th>10</th>\n",
       "      <td>E3</td>\n",
       "      <td>73</td>\n",
       "      <td>1419425</td>\n",
       "    </tr>\n",
       "    <tr>\n",
       "      <th>11</th>\n",
       "      <td>E5</td>\n",
       "      <td>91</td>\n",
       "      <td>1767300</td>\n",
       "    </tr>\n",
       "    <tr>\n",
       "      <th>12</th>\n",
       "      <td>D4</td>\n",
       "      <td>231</td>\n",
       "      <td>3932675</td>\n",
       "    </tr>\n",
       "    <tr>\n",
       "      <th>13</th>\n",
       "      <td>D5</td>\n",
       "      <td>262</td>\n",
       "      <td>4654425</td>\n",
       "    </tr>\n",
       "    <tr>\n",
       "      <th>14</th>\n",
       "      <td>D3</td>\n",
       "      <td>311</td>\n",
       "      <td>5109775</td>\n",
       "    </tr>\n",
       "    <tr>\n",
       "      <th>15</th>\n",
       "      <td>D1</td>\n",
       "      <td>319</td>\n",
       "      <td>5318375</td>\n",
       "    </tr>\n",
       "    <tr>\n",
       "      <th>16</th>\n",
       "      <td>D2</td>\n",
       "      <td>323</td>\n",
       "      <td>5008925</td>\n",
       "    </tr>\n",
       "    <tr>\n",
       "      <th>17</th>\n",
       "      <td>A1</td>\n",
       "      <td>422</td>\n",
       "      <td>7324900</td>\n",
       "    </tr>\n",
       "    <tr>\n",
       "      <th>18</th>\n",
       "      <td>A2</td>\n",
       "      <td>480</td>\n",
       "      <td>7235925</td>\n",
       "    </tr>\n",
       "    <tr>\n",
       "      <th>19</th>\n",
       "      <td>C5</td>\n",
       "      <td>480</td>\n",
       "      <td>8025200</td>\n",
       "    </tr>\n",
       "    <tr>\n",
       "      <th>20</th>\n",
       "      <td>A5</td>\n",
       "      <td>485</td>\n",
       "      <td>6790475</td>\n",
       "    </tr>\n",
       "    <tr>\n",
       "      <th>21</th>\n",
       "      <td>C3</td>\n",
       "      <td>501</td>\n",
       "      <td>8427750</td>\n",
       "    </tr>\n",
       "    <tr>\n",
       "      <th>22</th>\n",
       "      <td>C4</td>\n",
       "      <td>503</td>\n",
       "      <td>8474450</td>\n",
       "    </tr>\n",
       "    <tr>\n",
       "      <th>23</th>\n",
       "      <td>A3</td>\n",
       "      <td>504</td>\n",
       "      <td>7409350</td>\n",
       "    </tr>\n",
       "    <tr>\n",
       "      <th>24</th>\n",
       "      <td>B3</td>\n",
       "      <td>540</td>\n",
       "      <td>8487850</td>\n",
       "    </tr>\n",
       "    <tr>\n",
       "      <th>25</th>\n",
       "      <td>A4</td>\n",
       "      <td>568</td>\n",
       "      <td>9106800</td>\n",
       "    </tr>\n",
       "    <tr>\n",
       "      <th>26</th>\n",
       "      <td>C2</td>\n",
       "      <td>572</td>\n",
       "      <td>9234500</td>\n",
       "    </tr>\n",
       "    <tr>\n",
       "      <th>27</th>\n",
       "      <td>B4</td>\n",
       "      <td>581</td>\n",
       "      <td>9063000</td>\n",
       "    </tr>\n",
       "    <tr>\n",
       "      <th>28</th>\n",
       "      <td>C1</td>\n",
       "      <td>597</td>\n",
       "      <td>10516375</td>\n",
       "    </tr>\n",
       "    <tr>\n",
       "      <th>29</th>\n",
       "      <td>B5</td>\n",
       "      <td>631</td>\n",
       "      <td>10362475</td>\n",
       "    </tr>\n",
       "    <tr>\n",
       "      <th>30</th>\n",
       "      <td>B2</td>\n",
       "      <td>638</td>\n",
       "      <td>10711900</td>\n",
       "    </tr>\n",
       "    <tr>\n",
       "      <th>31</th>\n",
       "      <td>B1</td>\n",
       "      <td>647</td>\n",
       "      <td>10729975</td>\n",
       "    </tr>\n",
       "  </tbody>\n",
       "</table>\n",
       "</div>"
      ],
      "text/plain": [
       "   sub_grade  number_of_borrowers  total_loan_amount\n",
       "0         G4                    1              35000\n",
       "1         F5                    4              92175\n",
       "2         F4                    5              72750\n",
       "3         F3                    9             190050\n",
       "4         F2                    9             202200\n",
       "5         G1                   11             270150\n",
       "6         F1                   31             714350\n",
       "7         E1                   41             522800\n",
       "8         E2                   57             979400\n",
       "9         E4                   73            1428525\n",
       "10        E3                   73            1419425\n",
       "11        E5                   91            1767300\n",
       "12        D4                  231            3932675\n",
       "13        D5                  262            4654425\n",
       "14        D3                  311            5109775\n",
       "15        D1                  319            5318375\n",
       "16        D2                  323            5008925\n",
       "17        A1                  422            7324900\n",
       "18        A2                  480            7235925\n",
       "19        C5                  480            8025200\n",
       "20        A5                  485            6790475\n",
       "21        C3                  501            8427750\n",
       "22        C4                  503            8474450\n",
       "23        A3                  504            7409350\n",
       "24        B3                  540            8487850\n",
       "25        A4                  568            9106800\n",
       "26        C2                  572            9234500\n",
       "27        B4                  581            9063000\n",
       "28        C1                  597           10516375\n",
       "29        B5                  631           10362475\n",
       "30        B2                  638           10711900\n",
       "31        B1                  647           10729975"
      ]
     },
     "execution_count": 15,
     "metadata": {},
     "output_type": "execute_result"
    }
   ],
   "source": [
    "summary_by_sub_grade.sort_values('number_of_borrowers', ascending=True, inplace=True, ignore_index=True)\n",
    "\n",
    "summary_by_sub_grade"
   ]
  },
  {
   "cell_type": "code",
   "execution_count": 16,
   "id": "ef969f40",
   "metadata": {},
   "outputs": [
    {
     "data": {
      "image/png": "[encoded data removed]",
      "text/plain": [
       "<Figure size 864x432 with 1 Axes>"
      ]
     },
     "metadata": {
      "needs_background": "light"
     },
     "output_type": "display_data"
    }
   ],
   "source": [
    "fig, ax = plt.subplots(figsize=(12, 6))\n",
    "\n",
    "bar1 = ax.barh('sub_grade', 'number_of_borrowers', data=summary_by_sub_grade, color='#FA6900')\n",
    "\n",
    "i = 0\n",
    "for p in bar1.patches:\n",
    "    t1 = ax.annotate(summary_by_sub_grade.number_of_borrowers[i], xy=(p.get_width()+20, p.get_y()+p.get_height()/2)) # số 200 ở đây tùy scale của chart mà ta tinh chỉnh để số liệu tách ra xa khỏi bar cho đẹp\n",
    "    t1.set(size=8)\n",
    "    i+=1\n",
    "    \n",
    "plt.suptitle('The number of borrowers by sub_grade', fontweight='bold', size=14, horizontalalignment='left', x=0.125, y = 1)\n",
    "plt.xlabel('Number of borrowers', size=12)\n",
    "plt.ylabel('grade', size=12)\n",
    "plt.text(0.7, 0.01, \"XXX - Analytics Team\", style='italic',transform=plt.gcf().transFigure)\n",
    "\n",
    "plt.show()"
   ]
  },
  {
   "cell_type": "code",
   "execution_count": 17,
   "id": "3590c136",
   "metadata": {},
   "outputs": [],
   "source": [
    "import scipy.stats as stats\n",
    "from sklearn import preprocessing\n",
    "from sklearn.preprocessing import LabelEncoder"
   ]
  },
  {
   "cell_type": "code",
   "execution_count": 18,
   "id": "8a269c7b",
   "metadata": {},
   "outputs": [],
   "source": [
    "data = df.loc[:,['interest_rate','loan_amount','term','grade','sub_grade','annual_income','homeownership','verified_income','debt_to_income']]"
   ]
  },
  {
   "cell_type": "code",
   "execution_count": 19,
   "id": "94fb4486",
   "metadata": {},
   "outputs": [
    {
     "data": {
      "text/html": [
       "<div>\n",
       "<style scoped>\n",
       "    .dataframe tbody tr th:only-of-type {\n",
       "        vertical-align: middle;\n",
       "    }\n",
       "\n",
       "    .dataframe tbody tr th {\n",
       "        vertical-align: top;\n",
       "    }\n",
       "\n",
       "    .dataframe thead th {\n",
       "        text-align: right;\n",
       "    }\n",
       "</style>\n",
       "<table border=\"1\" class=\"dataframe\">\n",
       "  <thead>\n",
       "    <tr style=\"text-align: right;\">\n",
       "      <th></th>\n",
       "      <th>interest_rate</th>\n",
       "      <th>loan_amount</th>\n",
       "      <th>term</th>\n",
       "      <th>grade</th>\n",
       "      <th>sub_grade</th>\n",
       "      <th>annual_income</th>\n",
       "      <th>homeownership</th>\n",
       "      <th>verified_income</th>\n",
       "      <th>debt_to_income</th>\n",
       "    </tr>\n",
       "  </thead>\n",
       "  <tbody>\n",
       "    <tr>\n",
       "      <th>0</th>\n",
       "      <td>14.07</td>\n",
       "      <td>28000</td>\n",
       "      <td>60</td>\n",
       "      <td>C</td>\n",
       "      <td>C3</td>\n",
       "      <td>90000.0</td>\n",
       "      <td>MORTGAGE</td>\n",
       "      <td>Verified</td>\n",
       "      <td>18.01</td>\n",
       "    </tr>\n",
       "    <tr>\n",
       "      <th>1</th>\n",
       "      <td>12.61</td>\n",
       "      <td>5000</td>\n",
       "      <td>36</td>\n",
       "      <td>C</td>\n",
       "      <td>C1</td>\n",
       "      <td>40000.0</td>\n",
       "      <td>RENT</td>\n",
       "      <td>Not Verified</td>\n",
       "      <td>5.04</td>\n",
       "    </tr>\n",
       "    <tr>\n",
       "      <th>2</th>\n",
       "      <td>17.09</td>\n",
       "      <td>2000</td>\n",
       "      <td>36</td>\n",
       "      <td>D</td>\n",
       "      <td>D1</td>\n",
       "      <td>40000.0</td>\n",
       "      <td>RENT</td>\n",
       "      <td>Source Verified</td>\n",
       "      <td>21.15</td>\n",
       "    </tr>\n",
       "    <tr>\n",
       "      <th>3</th>\n",
       "      <td>6.72</td>\n",
       "      <td>21600</td>\n",
       "      <td>36</td>\n",
       "      <td>A</td>\n",
       "      <td>A3</td>\n",
       "      <td>30000.0</td>\n",
       "      <td>RENT</td>\n",
       "      <td>Not Verified</td>\n",
       "      <td>10.16</td>\n",
       "    </tr>\n",
       "    <tr>\n",
       "      <th>4</th>\n",
       "      <td>14.07</td>\n",
       "      <td>23000</td>\n",
       "      <td>36</td>\n",
       "      <td>C</td>\n",
       "      <td>C3</td>\n",
       "      <td>35000.0</td>\n",
       "      <td>RENT</td>\n",
       "      <td>Verified</td>\n",
       "      <td>57.96</td>\n",
       "    </tr>\n",
       "    <tr>\n",
       "      <th>...</th>\n",
       "      <td>...</td>\n",
       "      <td>...</td>\n",
       "      <td>...</td>\n",
       "      <td>...</td>\n",
       "      <td>...</td>\n",
       "      <td>...</td>\n",
       "      <td>...</td>\n",
       "      <td>...</td>\n",
       "      <td>...</td>\n",
       "    </tr>\n",
       "    <tr>\n",
       "      <th>9995</th>\n",
       "      <td>7.35</td>\n",
       "      <td>24000</td>\n",
       "      <td>36</td>\n",
       "      <td>A</td>\n",
       "      <td>A4</td>\n",
       "      <td>108000.0</td>\n",
       "      <td>RENT</td>\n",
       "      <td>Source Verified</td>\n",
       "      <td>22.28</td>\n",
       "    </tr>\n",
       "    <tr>\n",
       "      <th>9996</th>\n",
       "      <td>19.03</td>\n",
       "      <td>10000</td>\n",
       "      <td>36</td>\n",
       "      <td>D</td>\n",
       "      <td>D3</td>\n",
       "      <td>121000.0</td>\n",
       "      <td>MORTGAGE</td>\n",
       "      <td>Verified</td>\n",
       "      <td>32.38</td>\n",
       "    </tr>\n",
       "    <tr>\n",
       "      <th>9997</th>\n",
       "      <td>23.88</td>\n",
       "      <td>30000</td>\n",
       "      <td>36</td>\n",
       "      <td>E</td>\n",
       "      <td>E2</td>\n",
       "      <td>67000.0</td>\n",
       "      <td>MORTGAGE</td>\n",
       "      <td>Verified</td>\n",
       "      <td>45.26</td>\n",
       "    </tr>\n",
       "    <tr>\n",
       "      <th>9998</th>\n",
       "      <td>5.32</td>\n",
       "      <td>24000</td>\n",
       "      <td>36</td>\n",
       "      <td>A</td>\n",
       "      <td>A1</td>\n",
       "      <td>80000.0</td>\n",
       "      <td>MORTGAGE</td>\n",
       "      <td>Source Verified</td>\n",
       "      <td>11.99</td>\n",
       "    </tr>\n",
       "    <tr>\n",
       "      <th>9999</th>\n",
       "      <td>10.91</td>\n",
       "      <td>12800</td>\n",
       "      <td>36</td>\n",
       "      <td>B</td>\n",
       "      <td>B4</td>\n",
       "      <td>66000.0</td>\n",
       "      <td>RENT</td>\n",
       "      <td>Not Verified</td>\n",
       "      <td>20.82</td>\n",
       "    </tr>\n",
       "  </tbody>\n",
       "</table>\n",
       "<p>10000 rows × 9 columns</p>\n",
       "</div>"
      ],
      "text/plain": [
       "      interest_rate  loan_amount  term grade sub_grade  annual_income  \\\n",
       "0             14.07        28000    60     C        C3        90000.0   \n",
       "1             12.61         5000    36     C        C1        40000.0   \n",
       "2             17.09         2000    36     D        D1        40000.0   \n",
       "3              6.72        21600    36     A        A3        30000.0   \n",
       "4             14.07        23000    36     C        C3        35000.0   \n",
       "...             ...          ...   ...   ...       ...            ...   \n",
       "9995           7.35        24000    36     A        A4       108000.0   \n",
       "9996          19.03        10000    36     D        D3       121000.0   \n",
       "9997          23.88        30000    36     E        E2        67000.0   \n",
       "9998           5.32        24000    36     A        A1        80000.0   \n",
       "9999          10.91        12800    36     B        B4        66000.0   \n",
       "\n",
       "     homeownership  verified_income  debt_to_income  \n",
       "0         MORTGAGE         Verified           18.01  \n",
       "1             RENT     Not Verified            5.04  \n",
       "2             RENT  Source Verified           21.15  \n",
       "3             RENT     Not Verified           10.16  \n",
       "4             RENT         Verified           57.96  \n",
       "...            ...              ...             ...  \n",
       "9995          RENT  Source Verified           22.28  \n",
       "9996      MORTGAGE         Verified           32.38  \n",
       "9997      MORTGAGE         Verified           45.26  \n",
       "9998      MORTGAGE  Source Verified           11.99  \n",
       "9999          RENT     Not Verified           20.82  \n",
       "\n",
       "[10000 rows x 9 columns]"
      ]
     },
     "execution_count": 19,
     "metadata": {},
     "output_type": "execute_result"
    }
   ],
   "source": [
    "data"
   ]
  },
  {
   "cell_type": "code",
   "execution_count": 20,
   "id": "e1aaf6c9",
   "metadata": {},
   "outputs": [
    {
     "data": {
      "text/plain": [
       "interest_rate       0\n",
       "loan_amount         0\n",
       "term                0\n",
       "grade               0\n",
       "sub_grade           0\n",
       "annual_income       0\n",
       "homeownership       0\n",
       "verified_income     0\n",
       "debt_to_income     24\n",
       "dtype: int64"
      ]
     },
     "execution_count": 20,
     "metadata": {},
     "output_type": "execute_result"
    }
   ],
   "source": [
    "data.isnull().sum()"
   ]
  },
  {
   "cell_type": "code",
   "execution_count": 21,
   "id": "75393589",
   "metadata": {},
   "outputs": [
    {
     "data": {
      "text/plain": [
       "interest_rate      0\n",
       "loan_amount        0\n",
       "term               0\n",
       "grade              0\n",
       "sub_grade          0\n",
       "annual_income      0\n",
       "homeownership      0\n",
       "verified_income    0\n",
       "debt_to_income     0\n",
       "dtype: int64"
      ]
     },
     "execution_count": 21,
     "metadata": {},
     "output_type": "execute_result"
    }
   ],
   "source": [
    "mean_value=data['debt_to_income'].mean()\n",
    "data['debt_to_income'].fillna(value=mean_value, inplace=True)\n",
    "data.isnull().sum()"
   ]
  },
  {
   "cell_type": "code",
   "execution_count": 22,
   "id": "d5bd88ed",
   "metadata": {},
   "outputs": [],
   "source": [
    "list_lable = ['grade', 'sub_grade', 'homeownership', 'verified_income']\n",
    "for i in list_lable:\n",
    "    data[i] = LabelEncoder().fit_transform(data[i])"
   ]
  },
  {
   "cell_type": "code",
   "execution_count": 23,
   "id": "12cd8786",
   "metadata": {},
   "outputs": [
    {
     "data": {
      "text/html": [
       "<div>\n",
       "<style scoped>\n",
       "    .dataframe tbody tr th:only-of-type {\n",
       "        vertical-align: middle;\n",
       "    }\n",
       "\n",
       "    .dataframe tbody tr th {\n",
       "        vertical-align: top;\n",
       "    }\n",
       "\n",
       "    .dataframe thead th {\n",
       "        text-align: right;\n",
       "    }\n",
       "</style>\n",
       "<table border=\"1\" class=\"dataframe\">\n",
       "  <thead>\n",
       "    <tr style=\"text-align: right;\">\n",
       "      <th></th>\n",
       "      <th>interest_rate</th>\n",
       "      <th>loan_amount</th>\n",
       "      <th>term</th>\n",
       "      <th>grade</th>\n",
       "      <th>sub_grade</th>\n",
       "      <th>annual_income</th>\n",
       "      <th>homeownership</th>\n",
       "      <th>verified_income</th>\n",
       "      <th>debt_to_income</th>\n",
       "    </tr>\n",
       "  </thead>\n",
       "  <tbody>\n",
       "    <tr>\n",
       "      <th>0</th>\n",
       "      <td>14.07</td>\n",
       "      <td>28000</td>\n",
       "      <td>60</td>\n",
       "      <td>2</td>\n",
       "      <td>12</td>\n",
       "      <td>90000.0</td>\n",
       "      <td>0</td>\n",
       "      <td>2</td>\n",
       "      <td>18.01</td>\n",
       "    </tr>\n",
       "    <tr>\n",
       "      <th>1</th>\n",
       "      <td>12.61</td>\n",
       "      <td>5000</td>\n",
       "      <td>36</td>\n",
       "      <td>2</td>\n",
       "      <td>10</td>\n",
       "      <td>40000.0</td>\n",
       "      <td>2</td>\n",
       "      <td>0</td>\n",
       "      <td>5.04</td>\n",
       "    </tr>\n",
       "    <tr>\n",
       "      <th>2</th>\n",
       "      <td>17.09</td>\n",
       "      <td>2000</td>\n",
       "      <td>36</td>\n",
       "      <td>3</td>\n",
       "      <td>15</td>\n",
       "      <td>40000.0</td>\n",
       "      <td>2</td>\n",
       "      <td>1</td>\n",
       "      <td>21.15</td>\n",
       "    </tr>\n",
       "    <tr>\n",
       "      <th>3</th>\n",
       "      <td>6.72</td>\n",
       "      <td>21600</td>\n",
       "      <td>36</td>\n",
       "      <td>0</td>\n",
       "      <td>2</td>\n",
       "      <td>30000.0</td>\n",
       "      <td>2</td>\n",
       "      <td>0</td>\n",
       "      <td>10.16</td>\n",
       "    </tr>\n",
       "    <tr>\n",
       "      <th>4</th>\n",
       "      <td>14.07</td>\n",
       "      <td>23000</td>\n",
       "      <td>36</td>\n",
       "      <td>2</td>\n",
       "      <td>12</td>\n",
       "      <td>35000.0</td>\n",
       "      <td>2</td>\n",
       "      <td>2</td>\n",
       "      <td>57.96</td>\n",
       "    </tr>\n",
       "    <tr>\n",
       "      <th>...</th>\n",
       "      <td>...</td>\n",
       "      <td>...</td>\n",
       "      <td>...</td>\n",
       "      <td>...</td>\n",
       "      <td>...</td>\n",
       "      <td>...</td>\n",
       "      <td>...</td>\n",
       "      <td>...</td>\n",
       "      <td>...</td>\n",
       "    </tr>\n",
       "    <tr>\n",
       "      <th>9995</th>\n",
       "      <td>7.35</td>\n",
       "      <td>24000</td>\n",
       "      <td>36</td>\n",
       "      <td>0</td>\n",
       "      <td>3</td>\n",
       "      <td>108000.0</td>\n",
       "      <td>2</td>\n",
       "      <td>1</td>\n",
       "      <td>22.28</td>\n",
       "    </tr>\n",
       "    <tr>\n",
       "      <th>9996</th>\n",
       "      <td>19.03</td>\n",
       "      <td>10000</td>\n",
       "      <td>36</td>\n",
       "      <td>3</td>\n",
       "      <td>17</td>\n",
       "      <td>121000.0</td>\n",
       "      <td>0</td>\n",
       "      <td>2</td>\n",
       "      <td>32.38</td>\n",
       "    </tr>\n",
       "    <tr>\n",
       "      <th>9997</th>\n",
       "      <td>23.88</td>\n",
       "      <td>30000</td>\n",
       "      <td>36</td>\n",
       "      <td>4</td>\n",
       "      <td>21</td>\n",
       "      <td>67000.0</td>\n",
       "      <td>0</td>\n",
       "      <td>2</td>\n",
       "      <td>45.26</td>\n",
       "    </tr>\n",
       "    <tr>\n",
       "      <th>9998</th>\n",
       "      <td>5.32</td>\n",
       "      <td>24000</td>\n",
       "      <td>36</td>\n",
       "      <td>0</td>\n",
       "      <td>0</td>\n",
       "      <td>80000.0</td>\n",
       "      <td>0</td>\n",
       "      <td>1</td>\n",
       "      <td>11.99</td>\n",
       "    </tr>\n",
       "    <tr>\n",
       "      <th>9999</th>\n",
       "      <td>10.91</td>\n",
       "      <td>12800</td>\n",
       "      <td>36</td>\n",
       "      <td>1</td>\n",
       "      <td>8</td>\n",
       "      <td>66000.0</td>\n",
       "      <td>2</td>\n",
       "      <td>0</td>\n",
       "      <td>20.82</td>\n",
       "    </tr>\n",
       "  </tbody>\n",
       "</table>\n",
       "<p>10000 rows × 9 columns</p>\n",
       "</div>"
      ],
      "text/plain": [
       "      interest_rate  loan_amount  term  grade  sub_grade  annual_income  \\\n",
       "0             14.07        28000    60      2         12        90000.0   \n",
       "1             12.61         5000    36      2         10        40000.0   \n",
       "2             17.09         2000    36      3         15        40000.0   \n",
       "3              6.72        21600    36      0          2        30000.0   \n",
       "4             14.07        23000    36      2         12        35000.0   \n",
       "...             ...          ...   ...    ...        ...            ...   \n",
       "9995           7.35        24000    36      0          3       108000.0   \n",
       "9996          19.03        10000    36      3         17       121000.0   \n",
       "9997          23.88        30000    36      4         21        67000.0   \n",
       "9998           5.32        24000    36      0          0        80000.0   \n",
       "9999          10.91        12800    36      1          8        66000.0   \n",
       "\n",
       "      homeownership  verified_income  debt_to_income  \n",
       "0                 0                2           18.01  \n",
       "1                 2                0            5.04  \n",
       "2                 2                1           21.15  \n",
       "3                 2                0           10.16  \n",
       "4                 2                2           57.96  \n",
       "...             ...              ...             ...  \n",
       "9995              2                1           22.28  \n",
       "9996              0                2           32.38  \n",
       "9997              0                2           45.26  \n",
       "9998              0                1           11.99  \n",
       "9999              2                0           20.82  \n",
       "\n",
       "[10000 rows x 9 columns]"
      ]
     },
     "execution_count": 23,
     "metadata": {},
     "output_type": "execute_result"
    }
   ],
   "source": [
    "data"
   ]
  },
  {
   "cell_type": "code",
   "execution_count": 24,
   "id": "9fc3f881",
   "metadata": {},
   "outputs": [
    {
     "name": "stdout",
     "output_type": "stream",
     "text": [
      "<class 'pandas.core.frame.DataFrame'>\n",
      "RangeIndex: 10000 entries, 0 to 9999\n",
      "Data columns (total 9 columns):\n",
      " #   Column           Non-Null Count  Dtype  \n",
      "---  ------           --------------  -----  \n",
      " 0   interest_rate    10000 non-null  float64\n",
      " 1   loan_amount      10000 non-null  int64  \n",
      " 2   term             10000 non-null  int64  \n",
      " 3   grade            10000 non-null  int32  \n",
      " 4   sub_grade        10000 non-null  int32  \n",
      " 5   annual_income    10000 non-null  float64\n",
      " 6   homeownership    10000 non-null  int32  \n",
      " 7   verified_income  10000 non-null  int32  \n",
      " 8   debt_to_income   10000 non-null  float64\n",
      "dtypes: float64(3), int32(4), int64(2)\n",
      "memory usage: 547.0 KB\n"
     ]
    }
   ],
   "source": [
    "data.info()"
   ]
  },
  {
   "cell_type": "markdown",
   "id": "49827ecb",
   "metadata": {},
   "source": [
    "#### Check correlation"
   ]
  },
  {
   "cell_type": "code",
   "execution_count": 25,
   "id": "ba00cc09",
   "metadata": {},
   "outputs": [
    {
     "data": {
      "image/png": "[encoded data removed]",
      "text/plain": [
       "<Figure size 720x720 with 2 Axes>"
      ]
     },
     "metadata": {
      "needs_background": "light"
     },
     "output_type": "display_data"
    }
   ],
   "source": [
    "corr = data.corr()\n",
    "fig,ax = plt.subplots(figsize=(10,10))\n",
    "sns.heatmap(corr, square=True, ax=ax, annot=True, cmap='coolwarm', fmt='.2f', annot_kws={'size':12})\n",
    "plt.title('Correlated features of dataset', size=16)\n",
    "plt.show()"
   ]
  },
  {
   "cell_type": "code",
   "execution_count": 26,
   "id": "ba4d455e",
   "metadata": {},
   "outputs": [
    {
     "data": {
      "image/png": "[encoded data removed]",
      "text/plain": [
       "<Figure size 720x360 with 1 Axes>"
      ]
     },
     "metadata": {
      "needs_background": "light"
     },
     "output_type": "display_data"
    }
   ],
   "source": [
    "fig, ax = plt.subplots(figsize=(10, 5))\n",
    "\n",
    "ax = sns.regplot(x=data['grade'], y=data['interest_rate'], data=data)\n",
    "\n",
    "plt.suptitle('The relationship between interest_rate and grade', fontweight='bold', size=12, horizontalalignment='left', x=0.125, y = 1)\n",
    "plt.show()\n"
   ]
  },
  {
   "cell_type": "code",
   "execution_count": 27,
   "id": "3b21ab84",
   "metadata": {},
   "outputs": [
    {
     "data": {
      "image/png": "[encoded data removed]",
      "text/plain": [
       "<Figure size 720x360 with 1 Axes>"
      ]
     },
     "metadata": {
      "needs_background": "light"
     },
     "output_type": "display_data"
    }
   ],
   "source": [
    "fig, ax = plt.subplots(figsize=(10, 5))\n",
    "\n",
    "ax = sns.regplot(x=data['sub_grade'], y=data['interest_rate'], data=data)\n",
    "plt.suptitle('The relationship between interest_rate and sub_grade', fontweight='bold', size=12, horizontalalignment='left', x=0.125, y = 1)\n",
    "plt.show()\n"
   ]
  },
  {
   "cell_type": "code",
   "execution_count": 28,
   "id": "246a0304",
   "metadata": {},
   "outputs": [
    {
     "name": "stdout",
     "output_type": "stream",
     "text": [
      "Correlation Coefficient:  0.9694016378508052\n",
      "P-value:  0.0\n"
     ]
    }
   ],
   "source": [
    "pearson_coef, p_value = stats.pearsonr(data['grade'], data['interest_rate'])\n",
    "print(\"Correlation Coefficient: \", pearson_coef)\n",
    "print(\"P-value: \", p_value)"
   ]
  },
  {
   "cell_type": "markdown",
   "id": "1f370975",
   "metadata": {},
   "source": [
    "### Linear Regression"
   ]
  },
  {
   "cell_type": "code",
   "execution_count": 29,
   "id": "80713478",
   "metadata": {},
   "outputs": [],
   "source": [
    "from sklearn.linear_model import LinearRegression\n",
    "from sklearn.model_selection import train_test_split"
   ]
  },
  {
   "cell_type": "code",
   "execution_count": 30,
   "id": "766b26ba",
   "metadata": {},
   "outputs": [],
   "source": [
    "X = np.array(data['sub_grade']).reshape(-1,1)\n",
    "y = np.array(data['interest_rate']).reshape(-1,1)"
   ]
  },
  {
   "cell_type": "code",
   "execution_count": 31,
   "id": "249a6149",
   "metadata": {},
   "outputs": [],
   "source": [
    "X_train, X_test, y_train, y_test = train_test_split(X, y, test_size=0.2, random_state=0)"
   ]
  },
  {
   "cell_type": "code",
   "execution_count": 32,
   "id": "1246443c",
   "metadata": {},
   "outputs": [
    {
     "data": {
      "text/plain": [
       "LinearRegression()"
      ]
     },
     "execution_count": 32,
     "metadata": {},
     "output_type": "execute_result"
    }
   ],
   "source": [
    "lin_reg = LinearRegression()\n",
    "lin_reg.fit(X_train, y_train)"
   ]
  },
  {
   "cell_type": "code",
   "execution_count": 33,
   "id": "63eddc24",
   "metadata": {},
   "outputs": [],
   "source": [
    "y_pred = lin_reg.predict(X_test)"
   ]
  },
  {
   "cell_type": "code",
   "execution_count": 34,
   "id": "59e7c990",
   "metadata": {},
   "outputs": [
    {
     "data": {
      "text/plain": [
       "array([[20.77247397],\n",
       "       [11.44256395],\n",
       "       [ 7.20169576],\n",
       "       ...,\n",
       "       [ 8.89804304],\n",
       "       [ 6.35352213],\n",
       "       [13.13891123]])"
      ]
     },
     "execution_count": 34,
     "metadata": {},
     "output_type": "execute_result"
    }
   ],
   "source": [
    "y_pred"
   ]
  },
  {
   "cell_type": "code",
   "execution_count": 35,
   "id": "ecea0c5e",
   "metadata": {},
   "outputs": [
    {
     "name": "stdout",
     "output_type": "stream",
     "text": [
      "[4.65717485]\n"
     ]
    }
   ],
   "source": [
    "intercept = lin_reg.intercept_\n",
    "print(intercept)"
   ]
  },
  {
   "cell_type": "code",
   "execution_count": 36,
   "id": "e6a9cc75",
   "metadata": {},
   "outputs": [
    {
     "name": "stdout",
     "output_type": "stream",
     "text": [
      "[[0.84817364]]\n"
     ]
    }
   ],
   "source": [
    "slopes = lin_reg.coef_\n",
    "print(slopes)"
   ]
  },
  {
   "cell_type": "code",
   "execution_count": 37,
   "id": "50210a3f",
   "metadata": {},
   "outputs": [
    {
     "name": "stdout",
     "output_type": "stream",
     "text": [
      "The full R-square is : 98.58906%\n",
      "The train R-square is : 98.54677%\n",
      "The test R-square is : 98.7577%\n"
     ]
    }
   ],
   "source": [
    "print('The full R-square is : ' +str((lin_reg.score(X,y)*100).round(5)) + '%')\n",
    "print('The train R-square is : ' +str((lin_reg.score(X_train, y_train)*100).round(5)) + '%')\n",
    "print('The test R-square is : ' +str((lin_reg.score(X_test, y_test)*100).round(5)) + '%')"
   ]
  },
  {
   "cell_type": "code",
   "execution_count": 38,
   "id": "b905df83",
   "metadata": {},
   "outputs": [
    {
     "name": "stdout",
     "output_type": "stream",
     "text": [
      "The MSE of interest_rate and predicted value is :  0.311\n",
      "The MAE of interest_rate and predicted value is :  0.45\n"
     ]
    }
   ],
   "source": [
    "#Find MSE , MAE\n",
    "from sklearn.metrics import mean_squared_error, mean_absolute_error\n",
    "mse = mean_squared_error(y_test,y_pred)\n",
    "mae = mean_absolute_error(y_test,y_pred)\n",
    "print('The MSE of interest_rate and predicted value is : ',mse.round(3))\n",
    "print('The MAE of interest_rate and predicted value is : ',mae.round(3))"
   ]
  },
  {
   "cell_type": "code",
   "execution_count": 39,
   "id": "e1dc9dac",
   "metadata": {},
   "outputs": [],
   "source": [
    "from sklearn.preprocessing import PolynomialFeatures\n",
    "from sklearn.metrics import mean_squared_error, r2_score"
   ]
  },
  {
   "cell_type": "code",
   "execution_count": 40,
   "id": "9d662a90",
   "metadata": {},
   "outputs": [],
   "source": [
    "# X = data['sub_grade']\n",
    "# y = data['interest_rate']\n",
    "X = np.array(data['sub_grade']).reshape(-1,1)\n",
    "y = np.array(data['interest_rate']).reshape(-1,1)"
   ]
  },
  {
   "cell_type": "code",
   "execution_count": 41,
   "id": "ba542907",
   "metadata": {},
   "outputs": [
    {
     "data": {
      "text/plain": [
       "LinearRegression()"
      ]
     },
     "execution_count": 41,
     "metadata": {},
     "output_type": "execute_result"
    }
   ],
   "source": [
    "poly_reg = PolynomialFeatures(degree=4)\n",
    "X_poly = poly_reg.fit_transform(X_train)\n",
    "pol_reg = LinearRegression()\n",
    "pol_reg.fit(X_poly, y_train)"
   ]
  },
  {
   "cell_type": "code",
   "execution_count": 42,
   "id": "d8bfc297",
   "metadata": {},
   "outputs": [],
   "source": [
    "from sklearn import preprocessing\n",
    "scaler = preprocessing.StandardScaler().fit(X)"
   ]
  },
  {
   "cell_type": "code",
   "execution_count": 43,
   "id": "4aff0a24",
   "metadata": {},
   "outputs": [
    {
     "data": {
      "text/plain": [
       "StandardScaler()"
      ]
     },
     "execution_count": 43,
     "metadata": {},
     "output_type": "execute_result"
    }
   ],
   "source": [
    "scaler"
   ]
  },
  {
   "cell_type": "code",
   "execution_count": 44,
   "id": "312306cb",
   "metadata": {},
   "outputs": [],
   "source": [
    "X_scaled = scaler.transform(X)"
   ]
  },
  {
   "cell_type": "code",
   "execution_count": 45,
   "id": "d93b2301",
   "metadata": {},
   "outputs": [
    {
     "data": {
      "text/plain": [
       "array([[ 0.48563584],\n",
       "       [ 0.14404771],\n",
       "       [ 0.99801804],\n",
       "       ...,\n",
       "       [ 2.02278243],\n",
       "       [-1.56389293],\n",
       "       [-0.19754042]])"
      ]
     },
     "execution_count": 45,
     "metadata": {},
     "output_type": "execute_result"
    }
   ],
   "source": [
    "X_scaled"
   ]
  },
  {
   "cell_type": "code",
   "execution_count": 46,
   "id": "b4bfd0bc",
   "metadata": {},
   "outputs": [
    {
     "data": {
      "image/png": "[encoded data removed]",
      "text/plain": [
       "<Figure size 720x360 with 1 Axes>"
      ]
     },
     "metadata": {
      "needs_background": "light"
     },
     "output_type": "display_data"
    }
   ],
   "source": [
    "fig, ax = plt.subplots(figsize=(10, 5))\n",
    "ax.scatter(X_test, y_test, color='red', label='Test')\n",
    "ax.scatter(X_test, pol_reg.predict(poly_reg.fit_transform(X_test)), color='blue', label='Predict')\n",
    "plt.xlabel('sub_grade')\n",
    "plt.ylabel('interest_rate')\n",
    "ax.legend()\n",
    "plt.suptitle('Polynomial Regression', fontweight='bold', size=12, horizontalalignment='left', x=0.125, y = 1)\n",
    "plt.show()"
   ]
  },
  {
   "cell_type": "code",
   "execution_count": 47,
   "id": "337108e6",
   "metadata": {},
   "outputs": [
    {
     "name": "stdout",
     "output_type": "stream",
     "text": [
      "The full R-square is : 99.66587%\n",
      "The train R-square is : 99.63015%\n",
      "The test R-square is : 99.80847%\n"
     ]
    }
   ],
   "source": [
    "print('The full R-square is : ' +str((r2_score(y, pol_reg.predict(poly_reg.fit_transform(X)))*100).round(5)) + '%')\n",
    "print('The train R-square is : ' +str((r2_score(y_train, pol_reg.predict(poly_reg.fit_transform(X_train)))*100).round(5)) + '%')\n",
    "print('The test R-square is : ' +str((r2_score(y_test, pol_reg.predict(poly_reg.fit_transform(X_test)))*100).round(5)) + '%')"
   ]
  },
  {
   "cell_type": "code",
   "execution_count": 48,
   "id": "c63c4b72",
   "metadata": {},
   "outputs": [
    {
     "name": "stdout",
     "output_type": "stream",
     "text": [
      "The MSE of interest_rate and predicted value is :  0.04797\n",
      "The MAE of interest_rate and predicted value is :  0.17857\n"
     ]
    }
   ],
   "source": [
    "#Find MSE , MAE\n",
    "from sklearn.metrics import mean_squared_error, mean_absolute_error\n",
    "mse = mean_squared_error(y_test, pol_reg.predict(poly_reg.fit_transform(X_test)))\n",
    "mae = mean_absolute_error(y_test, pol_reg.predict(poly_reg.fit_transform(X_test)))\n",
    "print('The MSE of interest_rate and predicted value is : ',mse.round(5))\n",
    "print('The MAE of interest_rate and predicted value is : ',mae.round(5))"
   ]
  },
  {
   "cell_type": "code",
   "execution_count": null,
   "id": "249edf41",
   "metadata": {},
   "outputs": [],
   "source": []
  }
 ],
 "metadata": {
  "kernelspec": {
   "display_name": "Python 3 (ipykernel)",
   "language": "python",
   "name": "python3"
  },
  "language_info": {
   "codemirror_mode": {
    "name": "ipython",
    "version": 3
   },
   "file_extension": ".py",
   "mimetype": "text/x-python",
   "name": "python",
   "nbconvert_exporter": "python",
   "pygments_lexer": "ipython3",
   "version": "3.8.12"
  }
 },
 "nbformat": 4,
 "nbformat_minor": 5
}
